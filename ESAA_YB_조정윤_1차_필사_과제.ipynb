{
  "nbformat": 4,
  "nbformat_minor": 0,
  "metadata": {
    "colab": {
      "provenance": []
    },
    "kernelspec": {
      "name": "python3",
      "display_name": "Python 3"
    },
    "language_info": {
      "name": "python"
    }
  },
  "cells": [
    {
      "cell_type": "markdown",
      "source": [
        "## ESAA YB 1차과제\n",
        "\n"
      ],
      "metadata": {
        "id": "Ci-Xx_QNHdtJ"
      }
    },
    {
      "cell_type": "markdown",
      "source": [
        "1-1,2 생략가능을 뒤늦게 봐서 1-2부터는 생략했습니다.\n",
        "\n",
        "#### 머신러닝\n",
        "애플리케이션을 수정하지 않고도 데이터를 기반으로 패턴을 학습 후 결과를 예측하는 알고리즘 기법의 통칭\n",
        "\n",
        "머신러닝 알고리즘은 데이터를 기반으로 통계적 신뢰도를 강화하고 예측 오류를 최소화하기 위한 다양한 수학적 기법을 적용해 데이터 내 패턴을 스스로 인지하고 신뢰도 있는 예측 결과를 도출함"
      ],
      "metadata": {
        "id": "c_MUsXa9I8MS"
      }
    },
    {
      "cell_type": "markdown",
      "source": [
        "#### 머신러닝의 분류\n",
        "\n",
        "**지도학습**\n",
        "- 분류\n",
        "- 회귀\n",
        "- 추천 시스템\n",
        "- 시각/음성 감지/인지\n",
        "- 텍스트 분석,NLP\n",
        "\n",
        "**비지도학습**\n",
        "- 클러스터링\n",
        "- 차원 축소\n",
        "- 강화학습"
      ],
      "metadata": {
        "id": "hXOpjGGTJxTb"
      }
    },
    {
      "cell_type": "markdown",
      "source": [
        "파이썬과 R 기반의 머신러닝 비교\n",
        "\n",
        "**R**\n",
        "R은 통계 전용 프로그램 언어로 다양학 많은 통계 패키지를 보유한 것이 큰 장점\n",
        "\n",
        "**파이썬**\n",
        "파이썬은 소리 없이 프로그래밍 세계를 점령하고 있는 언어\n"
      ],
      "metadata": {
        "id": "rFpvDE2uLNSH"
      }
    },
    {
      "cell_type": "markdown",
      "source": [
        "## 1-3 넘파이"
      ],
      "metadata": {
        "id": "UAyoaQRqNJqY"
      }
    },
    {
      "cell_type": "markdown",
      "source": [
        "머신러닝의 주요 알고리즘은 선형대수와 통계 등에 기반한다.\n",
        "\n",
        "Numerical Python을 의미하는 넘파이는 파이썬에서 선형대수 기반의 프로그램을 쉽게 만들 수 있도록 지원하는 대표적인 패키지입니다. 루프를 사용하지 않고 대량 데이터의 배열 연산을 가능하게 하므로 빠른 배열 연산 속도를 보장함. 그래서 많은 과학 공학 패키지가 이에 의존하고 있음\n",
        "\n",
        "넘파이는 저수준 언어 기반의 호환API를 제공하며 배열 기반 연산 뿐 아니라 다양한 데이터 핸들링 기능을 제공."
      ],
      "metadata": {
        "id": "3Uvz8PWtNMa7"
      }
    },
    {
      "cell_type": "markdown",
      "source": [
        "** 넘파이 ndarray 개요**\n",
        "as np를 추가해 모듈을 표현해주는 것이 관례\n",
        "\n",
        "넘파이의 기반 데이터 타입은 ndarray로 이를 통해 다차원 배열을 쉽게 생성 및 연산을 수행이 가능하다."
      ],
      "metadata": {
        "id": "doc3aRiBSdUV"
      }
    },
    {
      "cell_type": "markdown",
      "source": [
        "넘파이 모듈의 임포트"
      ],
      "metadata": {
        "id": "2jxsJ9RxSsnt"
      }
    },
    {
      "cell_type": "code",
      "source": [
        "import numpy as np"
      ],
      "metadata": {
        "id": "F1Unm9z3SkJx"
      },
      "execution_count": 2,
      "outputs": []
    },
    {
      "cell_type": "markdown",
      "source": [
        "**넘파이 array() 함수**\n",
        "\n",
        "넘파이 array() 함수는 파이썬의 리스트와 같은 다양한 인자를 입력받아 ndarray로 변환하는 기능을 수행한다.\n",
        "\n",
        "**ndarray 배열의 shape 변수**\n",
        "\n",
        "ndarray의 크기, 즉 행과 열의 수를 튜플 형태로 가지고 있으며 이를 통해 ndarray 배열의 차원까지 알 수 있습니다."
      ],
      "metadata": {
        "id": "Xbrk5YAtSzZ3"
      }
    },
    {
      "cell_type": "code",
      "source": [
        "array1 = np.array([1,2,3])\n",
        "print('array1 type:', type(array1))\n",
        "print('array1 array 형태:', array1.shape)\n",
        "\n",
        "array2 = np.array([[1, 2, 3],\n",
        "                  [2, 3, 4]])\n",
        "print('array2 type:', type(array2))\n",
        "print('array2 array 형태:', array2.shape)\n",
        "\n",
        "array3 = np.array([[1, 2, 3]])\n",
        "print('array3 type:', type(array3))\n",
        "print('array3 array 형태:', array3.shape)"
      ],
      "metadata": {
        "colab": {
          "base_uri": "https://localhost:8080/"
        },
        "id": "mrlWOdF4S3t_",
        "outputId": "8458b346-d385-4e79-de47-f951ec5918f9"
      },
      "execution_count": 3,
      "outputs": [
        {
          "output_type": "stream",
          "name": "stdout",
          "text": [
            "array1 type: <class 'numpy.ndarray'>\n",
            "array1 array 형태: (3,)\n",
            "array2 type: <class 'numpy.ndarray'>\n",
            "array2 array 형태: (2, 3)\n",
            "array3 type: <class 'numpy.ndarray'>\n",
            "array3 array 형태: (1, 3)\n"
          ]
        }
      ]
    },
    {
      "cell_type": "markdown",
      "source": [
        "#### **nd.array**\n",
        "\n",
        "사용법: ndarray로 변환을 원하는 객체를 인자로 입력하면 ndarray를 반환함"
      ],
      "metadata": {
        "id": "K4YCLkkUViYz"
      }
    },
    {
      "cell_type": "markdown",
      "source": [
        "####**ndarray.shape**\n",
        "\n",
        "ndarray의 차원과 크기를 튜플 형태로 나타내줌\n",
        "\n",
        "ex) array1의 shape는 (3,)인데 1차원 array로 3개의 데이터를 가지고 있음을 뜻함\n",
        "\n",
        "(a,b)는 a개의 row, b개의 col로 이루어졌다는 뜻"
      ],
      "metadata": {
        "id": "yXdhDfPCc72h"
      }
    },
    {
      "cell_type": "markdown",
      "source": [
        "array1과 array3의 차이점은 둘은 동일한 데이터 건수를 가지고 있지만 array1은 명확하게 1차원임을 (3,)로 표현한 거고 array3는 명확히 row와 col로 이뤄진 2차원 데이터임을 (1,3)으로 표현한 것임\n",
        "\n",
        "차원의 차수는 이후에 다룰 reshape() 함수를 통하여 변환할 수 있다."
      ],
      "metadata": {
        "id": "zh6PGN0jdKcU"
      }
    },
    {
      "cell_type": "markdown",
      "source": [
        "#### **ndarray.ndim**\n",
        "\n",
        "각 array의 차원을 확인할 수 있다."
      ],
      "metadata": {
        "id": "iX5OR0c2WjVG"
      }
    },
    {
      "cell_type": "code",
      "source": [
        "print('array1: {0}차원, array2: {1}차원, array3: {2}차원'.format(array1.ndim, array2.ndim, array3.ndim))"
      ],
      "metadata": {
        "colab": {
          "base_uri": "https://localhost:8080/"
        },
        "id": "X1DHF0BnTOS9",
        "outputId": "211c5a63-480e-40ec-f81a-183d761e843a"
      },
      "execution_count": 4,
      "outputs": [
        {
          "output_type": "stream",
          "name": "stdout",
          "text": [
            "array1: 1차원, array2: 2차원, array3: 2차원\n"
          ]
        }
      ]
    },
    {
      "cell_type": "markdown",
      "source": [
        "array() 함수의 인자로는 파이썬의 리스트 객체가 주로 사용된다. 리스트[]는 1차원, 리스트의 리스트[[]]는 2차원과 같은 형태로 배열의 차원과 크기를 쉽게 표현할 수 있다."
      ],
      "metadata": {
        "id": "oFRgIz26YMcs"
      }
    },
    {
      "cell_type": "markdown",
      "source": [
        "### ndarray의 데이터 타입\n",
        "\n",
        "ndarray내의 데이터값은 숫자,문자,볼 다 가능, 숫자형의 경우 int형, unsigned int형, float형, complex 타입도 제공\n",
        "\n",
        "데이터 타입은 그 연산의 특성상 같은 데이터 타입만 가능함\n",
        "\n",
        "즉 한 개의 ndarry 객체에 int와 float는 함께 있을 수 없음\n",
        "\n",
        "####**dtype**\n",
        "를 통해 ndarray내의 테이터 타입을 확인할 수 있음"
      ],
      "metadata": {
        "id": "CFf5IGIVYaYa"
      }
    },
    {
      "cell_type": "code",
      "source": [
        "list1 = [1, 2, 3]\n",
        "print(type(list1))\n",
        "array1 = np.array(list1)\n",
        "print(type(array1))\n",
        "print(array1, array1.dtype)"
      ],
      "metadata": {
        "colab": {
          "base_uri": "https://localhost:8080/"
        },
        "id": "4DFxujAqXc1_",
        "outputId": "5d98e76b-791a-48a3-ae70-26e12d8a57b5"
      },
      "execution_count": 5,
      "outputs": [
        {
          "output_type": "stream",
          "name": "stdout",
          "text": [
            "<class 'list'>\n",
            "<class 'numpy.ndarray'>\n",
            "[1 2 3] int64\n"
          ]
        }
      ]
    },
    {
      "cell_type": "markdown",
      "source": [
        "리스트: 서로 다른 데이터 타입 가질 수 있음\n",
        "\n",
        "ndarray: 내부의 데이터 타입은 그 연산 측성상 같은 데이터 타입만 가능하며 서로 다른 데이터 유형이 섞인 리스트를 ndarray로 변경하면 데이터 크기가 더 큰 데이터 타입으로 일괄 적용됨"
      ],
      "metadata": {
        "id": "UGTSFIp6bfXA"
      }
    },
    {
      "cell_type": "markdown",
      "source": [
        "### ndarray의 데이터 타입 일괄 적용\n",
        "\n",
        "더 큰 데이터 타입으로 변경\n",
        "\n",
        "int와 문자열이 섞이면 숫자형이 문자열 값으로 변환\n",
        "\n",
        "int와 float의 경우에도 둘다 float64형으로 변경됨"
      ],
      "metadata": {
        "id": "tcRtOWNucKjO"
      }
    },
    {
      "cell_type": "code",
      "source": [
        "list2 = [1, 2, 'test']\n",
        "array2 = np.array(list2)\n",
        "print(array2, array2.dtype)\n",
        "\n",
        "list3 = [1, 2, 3.0]\n",
        "array3 = np.array(list3)\n",
        "print(array3, array3.dtype)"
      ],
      "metadata": {
        "colab": {
          "base_uri": "https://localhost:8080/"
        },
        "id": "iwPlBeURX0K3",
        "outputId": "8462cdab-7dee-4be8-cf31-5d6a59907a30"
      },
      "execution_count": 6,
      "outputs": [
        {
          "output_type": "stream",
          "name": "stdout",
          "text": [
            "['1' '2' 'test'] <U21\n",
            "[1. 2. 3.] float64\n"
          ]
        }
      ]
    },
    {
      "cell_type": "markdown",
      "source": [
        "#### **astype()**\n",
        "\n",
        "ndarray 내 데이터값의 타입 변경\n",
        "\n",
        "astype()에 인자로 원하는 타입을 문자열로 지정(보통 메모리 절약할 때 이용)"
      ],
      "metadata": {
        "id": "he5IGrOdcgpF"
      }
    },
    {
      "cell_type": "code",
      "source": [
        "array_int = np.array([1, 2, 3])\n",
        "array_float = array_int.astype('float64')\n",
        "print(array_float, array_float.dtype)\n",
        "\n",
        "array_int1 = array_float.astype('int32')\n",
        "print(array_int1, array_int1.dtype)\n",
        "\n",
        "array_float1 = np.array([1.1, 2.1, 3.1])\n",
        "array_int2 = array_float1.astype('int32')\n",
        "print(array_int, array_int2.dtype)"
      ],
      "metadata": {
        "colab": {
          "base_uri": "https://localhost:8080/"
        },
        "id": "jmrefi5hcDxS",
        "outputId": "396327a3-5b30-49a5-cf02-0746e1ec4602"
      },
      "execution_count": 7,
      "outputs": [
        {
          "output_type": "stream",
          "name": "stdout",
          "text": [
            "[1. 2. 3.] float64\n",
            "[1 2 3] int32\n",
            "[1 2 3] int32\n"
          ]
        }
      ]
    },
    {
      "cell_type": "markdown",
      "source": [
        "## ndarray를 편리하게 생성하기 - arrange, zeros, ones\n",
        "특정 크기와 차원을 가진 ndarray를 연속값이나 0또는 1로 초기화해 쉽게 생성해야 할 필요가 있는 경우가 발생할 수 있음\n",
        "\n",
        "이 경우 **arrange(),zeros(),ones()** 를 이용해 쉽게 ndarray를 생성할 수 있음\n",
        "\n",
        "(주로 테스트용이나 초기화에 사용)"
      ],
      "metadata": {
        "id": "8W6cm09UgkZJ"
      }
    },
    {
      "cell_type": "markdown",
      "source": [
        "### arange()\n",
        "\n",
        "표준함수인 range()와 유사한 기능을 함\n",
        "array를 range()로 표현하는 것\n",
        "0부터 함수 인자 값 -1까지의 값을 순차적으로 ndarray의 데이터값으로 변환해준다"
      ],
      "metadata": {
        "id": "FrQnGifkg-xk"
      }
    },
    {
      "cell_type": "code",
      "source": [
        "sequence_array = np.arange(10)\n",
        "print(sequence_array)\n",
        "print(sequence_array.dtype, sequence_array.shape)"
      ],
      "metadata": {
        "colab": {
          "base_uri": "https://localhost:8080/"
        },
        "id": "0WbRBYBygHWv",
        "outputId": "3ebb6b88-3dd1-40ad-8502-7d80ef7bf8cb"
      },
      "execution_count": 8,
      "outputs": [
        {
          "output_type": "stream",
          "name": "stdout",
          "text": [
            "[0 1 2 3 4 5 6 7 8 9]\n",
            "int64 (10,)\n"
          ]
        }
      ]
    },
    {
      "cell_type": "markdown",
      "source": [
        "#### **zeros()**\n",
        "함수 인자로 튜플 형태의 shape 값을 입력하면 모든 값을 0으로 채운 해당 shape를 가진 ndarray를 반환한다.\n",
        "\n",
        "함수 인자로 dtype 인자를 정해주지 않으면 디폴트로 float64형으로 채움"
      ],
      "metadata": {
        "id": "zd_y14nJhwOd"
      }
    },
    {
      "cell_type": "markdown",
      "source": [
        "#### **ones**\n",
        "함수 인자로 튜플 형태의 shape 값을 입력하면 모든 값을 1로 채운 해당 shape를 가진 ndarray를 반환함."
      ],
      "metadata": {
        "id": "p5U_C4v6h8c9"
      }
    },
    {
      "cell_type": "code",
      "source": [
        "zero_array = np.zeros((3, 2), dtype='int32')\n",
        "print(zero_array)\n",
        "print(zero_array.dtype, zero_array.shape)\n",
        "\n",
        "one_array = np.ones((3,2))\n",
        "print(one_array)\n",
        "print(one_array.dtype, one_array.shape)"
      ],
      "metadata": {
        "id": "SELSgcPFhish",
        "colab": {
          "base_uri": "https://localhost:8080/"
        },
        "outputId": "4be564eb-1932-4e33-dbd6-e5a900b5ffe9"
      },
      "execution_count": 10,
      "outputs": [
        {
          "output_type": "stream",
          "name": "stdout",
          "text": [
            "[[0 0]\n",
            " [0 0]\n",
            " [0 0]]\n",
            "int32 (3, 2)\n",
            "[[1. 1.]\n",
            " [1. 1.]\n",
            " [1. 1.]]\n",
            "float64 (3, 2)\n"
          ]
        }
      ]
    },
    {
      "cell_type": "markdown",
      "source": [
        "### reshape()\n",
        "reshape() 메서드는 ndarray를 특정 차원 및 크기로 변환한다."
      ],
      "metadata": {
        "id": "oI2y6gm58GUx"
      }
    },
    {
      "cell_type": "code",
      "source": [
        "array1 = np.arange(10)\n",
        "print('array1:\\n', array1)\n",
        "\n",
        "array2 = array1.reshape(2,5)\n",
        "print('array2:\\n', array2)\n",
        "\n",
        "array3 = array1.reshape(5,2)\n",
        "print('array3\"\\n', array3)"
      ],
      "metadata": {
        "colab": {
          "base_uri": "https://localhost:8080/"
        },
        "id": "I3HniRXx8BtP",
        "outputId": "1575e27a-63f5-47b8-dd4e-c3210469df0e"
      },
      "execution_count": 15,
      "outputs": [
        {
          "output_type": "stream",
          "name": "stdout",
          "text": [
            "array1:\n",
            " [0 1 2 3 4 5 6 7 8 9]\n",
            "array2:\n",
            " [[0 1 2 3 4]\n",
            " [5 6 7 8 9]]\n",
            "array3\"\n",
            " [[0 1]\n",
            " [2 3]\n",
            " [4 5]\n",
            " [6 7]\n",
            " [8 9]]\n"
          ]
        }
      ]
    },
    {
      "cell_type": "markdown",
      "source": [
        "reshape()는 지정된 사이즈로 변경이 불가능하면 오류가 난다."
      ],
      "metadata": {
        "id": "i4lr169W86e0"
      }
    },
    {
      "cell_type": "code",
      "source": [
        "array1.reshape(4,3)"
      ],
      "metadata": {
        "colab": {
          "base_uri": "https://localhost:8080/",
          "height": 144
        },
        "id": "NABrF_0d8Z42",
        "outputId": "1a23c2a0-1998-41ae-a7bd-c82eac7aa11c"
      },
      "execution_count": 16,
      "outputs": [
        {
          "output_type": "error",
          "ename": "ValueError",
          "evalue": "cannot reshape array of size 10 into shape (4,3)",
          "traceback": [
            "\u001b[0;31m---------------------------------------------------------------------------\u001b[0m",
            "\u001b[0;31mValueError\u001b[0m                                Traceback (most recent call last)",
            "\u001b[0;32m<ipython-input-16-a40469ec5825>\u001b[0m in \u001b[0;36m<cell line: 1>\u001b[0;34m()\u001b[0m\n\u001b[0;32m----> 1\u001b[0;31m \u001b[0marray1\u001b[0m\u001b[0;34m.\u001b[0m\u001b[0mreshape\u001b[0m\u001b[0;34m(\u001b[0m\u001b[0;36m4\u001b[0m\u001b[0;34m,\u001b[0m\u001b[0;36m3\u001b[0m\u001b[0;34m)\u001b[0m\u001b[0;34m\u001b[0m\u001b[0;34m\u001b[0m\u001b[0m\n\u001b[0m",
            "\u001b[0;31mValueError\u001b[0m: cannot reshape array of size 10 into shape (4,3)"
          ]
        }
      ]
    },
    {
      "cell_type": "markdown",
      "source": [
        "### -1 인자의 사용\n",
        "-1을 인자로 사용하면 원래 ndarray와 호환되는 새로운 shape으로 변환해준다."
      ],
      "metadata": {
        "id": "pDpFSvpe8_8a"
      }
    },
    {
      "cell_type": "code",
      "source": [
        "array1 = np.arange(10)\n",
        "print(array1)\n",
        "array2 = array1.reshape(-1,5)\n",
        "print('array2 shape:', array2.shape)\n",
        "array3 = array1.reshape(5,-1)\n",
        "print('array3 shape:', array3.shape)"
      ],
      "metadata": {
        "colab": {
          "base_uri": "https://localhost:8080/"
        },
        "id": "N381iqzR8-Gh",
        "outputId": "244fca27-4141-40b7-e04d-5d666ebecf01"
      },
      "execution_count": 17,
      "outputs": [
        {
          "output_type": "stream",
          "name": "stdout",
          "text": [
            "[0 1 2 3 4 5 6 7 8 9]\n",
            "array2 shape: (2, 5)\n",
            "array3 shape: (5, 2)\n"
          ]
        }
      ]
    },
    {
      "cell_type": "markdown",
      "source": [
        "10개의 1차원 데이터를 고정된 4개의 칼럼을 가진 로우로는 변경할 수 없기에 다음 예제 reshape(-1,4)에선 에러가 발생한다."
      ],
      "metadata": {
        "id": "6PYq9Dkh9X0u"
      }
    },
    {
      "cell_type": "code",
      "source": [
        "array1 = np.arange(10)\n",
        "array4 = array1.reshape(-1,4)"
      ],
      "metadata": {
        "colab": {
          "base_uri": "https://localhost:8080/",
          "height": 162
        },
        "id": "H9Bhvsp-9V7X",
        "outputId": "4a551ca5-081f-4f1c-8e79-9a2773986c43"
      },
      "execution_count": 18,
      "outputs": [
        {
          "output_type": "error",
          "ename": "ValueError",
          "evalue": "cannot reshape array of size 10 into shape (4)",
          "traceback": [
            "\u001b[0;31m---------------------------------------------------------------------------\u001b[0m",
            "\u001b[0;31mValueError\u001b[0m                                Traceback (most recent call last)",
            "\u001b[0;32m<ipython-input-18-07da9760475e>\u001b[0m in \u001b[0;36m<cell line: 2>\u001b[0;34m()\u001b[0m\n\u001b[1;32m      1\u001b[0m \u001b[0marray1\u001b[0m \u001b[0;34m=\u001b[0m \u001b[0mnp\u001b[0m\u001b[0;34m.\u001b[0m\u001b[0marange\u001b[0m\u001b[0;34m(\u001b[0m\u001b[0;36m10\u001b[0m\u001b[0;34m)\u001b[0m\u001b[0;34m\u001b[0m\u001b[0;34m\u001b[0m\u001b[0m\n\u001b[0;32m----> 2\u001b[0;31m \u001b[0marray4\u001b[0m \u001b[0;34m=\u001b[0m \u001b[0marray1\u001b[0m\u001b[0;34m.\u001b[0m\u001b[0mreshape\u001b[0m\u001b[0;34m(\u001b[0m\u001b[0;34m-\u001b[0m\u001b[0;36m1\u001b[0m\u001b[0;34m,\u001b[0m\u001b[0;36m4\u001b[0m\u001b[0;34m)\u001b[0m\u001b[0;34m\u001b[0m\u001b[0;34m\u001b[0m\u001b[0m\n\u001b[0m",
            "\u001b[0;31mValueError\u001b[0m: cannot reshape array of size 10 into shape (4)"
          ]
        }
      ]
    },
    {
      "cell_type": "markdown",
      "source": [
        "- -1 인자는 reshape(-1,1)와 같은 형태로 자주 사용된다.\n",
        "- reshape(-1,1)은 원본 ndarray가 어떤 형태라도 2차원의 1개의 col을 가진 ndarray로 변환됨을 보장한다.\n",
        "- ndarray는 stack이나 concat으로 결합할 때 각각의 ndarray의 형태를 통일해 유용히 사용된다.\n",
        "-  ndarray는 **tolist()** 메서드를 이용해 리스트 자료형으로 변경 가능하다\n",
        "\n",
        "\n",
        " 시각적 편한 이해를 위해 아래는 ndarray를 리스트로 변환해 출력됨\n",
        "\n"
      ],
      "metadata": {
        "id": "LWyxSaLl9nkZ"
      }
    },
    {
      "cell_type": "code",
      "source": [
        "array1 = np.arange(8)\n",
        "array3d = array1.reshape((2,2,2))\n",
        "print('array3d:\\n', array3d.tolist())\n",
        "\n",
        "# 3차원 ndarray를 2차원 ndarray로 변환\n",
        "array5 = array3d.reshape(-1,1)\n",
        "print('array5:\\n', array5.tolist())\n",
        "print('array5 shape:', array5.shape)\n",
        "\n",
        "# 1차원 ndarray를 2차원 ndarray로 변환\n",
        "array6 = array1.reshape(-1,1)\n",
        "print('array6:\\n', array6.tolist())\n",
        "print('array6 shape:', array6.shape)"
      ],
      "metadata": {
        "colab": {
          "base_uri": "https://localhost:8080/"
        },
        "id": "8qkZ5rS-9mOz",
        "outputId": "de353f2a-0582-42bc-9058-acca8c7e0434"
      },
      "execution_count": 26,
      "outputs": [
        {
          "output_type": "stream",
          "name": "stdout",
          "text": [
            "array3d:\n",
            " [[[0, 1], [2, 3]], [[4, 5], [6, 7]]]\n",
            "array5:\n",
            " [[0], [1], [2], [3], [4], [5], [6], [7]]\n",
            "array5 shape: (8, 1)\n",
            "array6:\n",
            " [[0], [1], [2], [3], [4], [5], [6], [7]]\n",
            "array6 shape: (8, 1)\n"
          ]
        }
      ]
    },
    {
      "cell_type": "markdown",
      "source": [
        "### 넘파이의 ndarray의 데이터 세트 선택하기 = 인덱싱(indexing)\n",
        "\n",
        "1. 특정한 데이터만 추출\n",
        "2. 슬라이싱(Slicing)\n",
        "3. 팬시 인덱싱(Fancy indexing)\n",
        "4. 불린 인덱싱(Boolean indexing)"
      ],
      "metadata": {
        "id": "cHmSSXtn_oIG"
      }
    },
    {
      "cell_type": "markdown",
      "source": [
        "### 단일 값 추출\n",
        "해당하는 위치의 인덱스 값을 [] 안에 입력하면 됩니다."
      ],
      "metadata": {
        "id": "q5h6p4jZ_5sh"
      }
    },
    {
      "cell_type": "code",
      "source": [
        "# 1부터 9까지의 1차원 ndarray 생성\n",
        "array1 = np.arange(start=1,stop=10)\n",
        "print('array1:', array1)\n",
        "#index는 0부터 시작하므로 array1[2]는 3번째 index 위치의 데이터값을 의미\n",
        "value = array1[2]\n",
        "print('value;', value)\n",
        "print(type(value))"
      ],
      "metadata": {
        "colab": {
          "base_uri": "https://localhost:8080/"
        },
        "id": "76AyIh4q-p1Y",
        "outputId": "87725718-ff5a-4a85-b2c0-bea6df13c1a2"
      },
      "execution_count": 27,
      "outputs": [
        {
          "output_type": "stream",
          "name": "stdout",
          "text": [
            "array1: [1 2 3 4 5 6 7 8 9]\n",
            "value; 3\n",
            "<class 'numpy.int64'>\n"
          ]
        }
      ]
    },
    {
      "cell_type": "code",
      "source": [
        "print('맨 뒤의 값:', array1[-1], ', 맨뒤에서 두번째 값:', array1[-2])"
      ],
      "metadata": {
        "colab": {
          "base_uri": "https://localhost:8080/"
        },
        "id": "EUrNcQ3_AaCX",
        "outputId": "baa71e09-ec5f-442d-8224-785e27a98fc3"
      },
      "execution_count": 31,
      "outputs": [
        {
          "output_type": "stream",
          "name": "stdout",
          "text": [
            "맨 뒤의 값: 9 , 맨뒤에서 두번째 값: 8\n"
          ]
        }
      ]
    },
    {
      "cell_type": "markdown",
      "source": [
        "단일 인덱스를 이용해 ndarray 내의 데이터값도 간단히 수정 가능하다."
      ],
      "metadata": {
        "id": "N1aZEHHMAxUb"
      }
    },
    {
      "cell_type": "code",
      "source": [
        "array1[0] = 9\n",
        "array1[8] = 0\n",
        "print('array1:',array1)"
      ],
      "metadata": {
        "colab": {
          "base_uri": "https://localhost:8080/"
        },
        "id": "s7yoeypJAlE7",
        "outputId": "bf1db33d-f1bd-43df-f6ad-a895a9063cc3"
      },
      "execution_count": 32,
      "outputs": [
        {
          "output_type": "stream",
          "name": "stdout",
          "text": [
            "array1: [9 2 3 4 5 6 7 8 0]\n"
          ]
        }
      ]
    },
    {
      "cell_type": "code",
      "source": [
        "array1d = np.arange(start=1, stop=10)\n",
        "array2d = array1d.reshape(3,3)\n",
        "print(array2d)\n",
        "\n",
        "print('(row=0, col=0) index 가리키는 값:', array2d[0,0])\n",
        "print('(row=0, col=1) index 가리키는 값:', array2d[0,1])\n",
        "print('(row=1, col=0) index 가리키는 값:', array2d[1,0])\n",
        "print('(row=2, col=2) index 가리키는 값:', array2d[2,2])"
      ],
      "metadata": {
        "colab": {
          "base_uri": "https://localhost:8080/"
        },
        "id": "DofZItHyA_90",
        "outputId": "939e1afb-91f4-4436-c959-fdee805e1442"
      },
      "execution_count": 34,
      "outputs": [
        {
          "output_type": "stream",
          "name": "stdout",
          "text": [
            "[[1 2 3]\n",
            " [4 5 6]\n",
            " [7 8 9]]\n",
            "(row=0, col=0) index 가리키는 값: 1\n",
            "(row=0, col=1) index 가리키는 값: 2\n",
            "(row=1, col=0) index 가리키는 값: 4\n",
            "(row=2, col=2) index 가리키는 값: 9\n"
          ]
        }
      ]
    },
    {
      "cell_type": "markdown",
      "source": [
        "### **슬라이싱**\n",
        "\n",
        "':' 기호를 이용해 슬라이싱함\n",
        "\n",
        "반환값: [시작]~[종료-1]\n",
        "\n",
        ".\n",
        "\n",
        "단일 데이터값 추출을 제외하고 슬라이싱, 팬시 인덱싱, 불린 인덱싱으로 추출된 데이터 세트는 모두 ndarray 타입입니다."
      ],
      "metadata": {
        "id": "fdNa0Z2fBmmB"
      }
    },
    {
      "cell_type": "markdown",
      "source": [
        "슬라이싱 기호인 ':' 사이의 시작, 종료 인덱스는 생략이 가능합니다.\n",
        "1. 시작 인덱스 생략 -> 처음 인덱스인 0으로 간주\n",
        "2. 종료 인덱스 생략 -> 마지막 인덱스로 간주\n",
        "3. 둘다 생략 -> [처음]:[마지막]"
      ],
      "metadata": {
        "id": "a3mz0_3sDxyB"
      }
    },
    {
      "cell_type": "code",
      "source": [
        "array1 = np.arange(start=1,stop=10)\n",
        "array4 = array1[:3]\n",
        "print(array4)\n",
        "\n",
        "array5 = array1[3:]\n",
        "print(array5)\n",
        "\n",
        "array6 = array1[:]\n",
        "print(array6)"
      ],
      "metadata": {
        "colab": {
          "base_uri": "https://localhost:8080/"
        },
        "id": "jcMQWD4UBY3g",
        "outputId": "b3253762-49d8-437c-baa3-f3e2f38cc60c"
      },
      "execution_count": 35,
      "outputs": [
        {
          "output_type": "stream",
          "name": "stdout",
          "text": [
            "[1 2 3]\n",
            "[4 5 6 7 8 9]\n",
            "[1 2 3 4 5 6 7 8 9]\n"
          ]
        }
      ]
    },
    {
      "cell_type": "markdown",
      "source": [
        "2차원 ndarray에서의 슬라이싱도 비슷한데 콤마로 로우랑 칼럼 지칭하는 것만 다름"
      ],
      "metadata": {
        "id": "YoZoiN4iEeZq"
      }
    },
    {
      "cell_type": "code",
      "source": [
        "array1d = np.arange(start=1, stop=10)\n",
        "array2d = array1d.reshape(3,3)\n",
        "print('array2d:\\n', array2d)\n",
        "\n",
        "print('array2d[0:2, 0:2] \\n', array2d[0:2, 0:2])\n",
        "print('array2d[1:3, 0:3] \\n', array2d[1:3, 0:3])\n",
        "print('array2d[1:3, :] \\n', array2d[1:3, :])\n",
        "print('array2d[:, :] \\n', array2d[:, :])\n",
        "print('array2d[:2, 1:] \\n', array2d[:2, 1:])\n",
        "print('array2d[:2, 0] \\n', array2d[:2, 0])"
      ],
      "metadata": {
        "colab": {
          "base_uri": "https://localhost:8080/"
        },
        "id": "3Lz4ns3OEcF1",
        "outputId": "6c7a3891-f72e-4e0e-bce8-dfb1d5dada3e"
      },
      "execution_count": 36,
      "outputs": [
        {
          "output_type": "stream",
          "name": "stdout",
          "text": [
            "array2d:\n",
            " [[1 2 3]\n",
            " [4 5 6]\n",
            " [7 8 9]]\n",
            "array2d[0:2, 0:2] \n",
            " [[1 2]\n",
            " [4 5]]\n",
            "array2d[1:3, 0:3] \n",
            " [[4 5 6]\n",
            " [7 8 9]]\n",
            "array2d[1:3, :] \n",
            " [[4 5 6]\n",
            " [7 8 9]]\n",
            "array2d[:, :] \n",
            " [[1 2 3]\n",
            " [4 5 6]\n",
            " [7 8 9]]\n",
            "array2d[:2, 1:] \n",
            " [[2 3]\n",
            " [5 6]]\n",
            "array2d[:2, 0] \n",
            " [1 4]\n"
          ]
        }
      ]
    },
    {
      "cell_type": "markdown",
      "source": [
        "2차원 ndarray에서 뒤에 오는 인덱스를 없애면 1차원 ndarray를 반환한다."
      ],
      "metadata": {
        "id": "eK8qPk4GGEGL"
      }
    },
    {
      "cell_type": "code",
      "source": [
        "print(array2d[0])\n",
        "print(array2d[1])\n",
        "print('array2d[0] shape:', array2d[0].shape, 'array2d[1] shape:', array2d[1].shape)"
      ],
      "metadata": {
        "colab": {
          "base_uri": "https://localhost:8080/"
        },
        "id": "l0xLlAHOFQ2P",
        "outputId": "53781170-d57c-4ed0-d7ff-34be147ffb2c"
      },
      "execution_count": 37,
      "outputs": [
        {
          "output_type": "stream",
          "name": "stdout",
          "text": [
            "[1 2 3]\n",
            "[4 5 6]\n",
            "array2d[0] shape: (3,) array2d[1] shape: (3,)\n"
          ]
        }
      ]
    },
    {
      "cell_type": "markdown",
      "source": [
        "### **팬시 인덱싱**\n",
        "리스트나 ndarray로 인덱스 집합을 지정하면 해당 위치의 인덱스에 해당하는 ndarray를 반환하는 인덱싱 방식이다.\n",
        "array2d[[0,1]]은 ((0,:0),(1,:)) 인덱싱이 적용되었다."
      ],
      "metadata": {
        "id": "ndUlDtUtGkY3"
      }
    },
    {
      "cell_type": "code",
      "source": [
        "array1d = np.arange(start=1, stop=10)\n",
        "array2d = array1d.reshape(3,3)\n",
        "\n",
        "array3 = array2d[[0,1], 2]\n",
        "print('array2d[[0,1],2] => ', array3.tolist())\n",
        "\n",
        "array4 = array2d[[0,1], 0:2]\n",
        "print('array2d[[0,1],0:2] => ', array4.tolist())\n",
        "\n",
        "array5 = array2d[[0,1]]\n",
        "print('array2d[[0,1]] => ', array5.tolist())"
      ],
      "metadata": {
        "colab": {
          "base_uri": "https://localhost:8080/"
        },
        "id": "5iudYzUZGi2D",
        "outputId": "ea6bf819-305e-42ce-9240-cf22a9a70f9a"
      },
      "execution_count": 40,
      "outputs": [
        {
          "output_type": "stream",
          "name": "stdout",
          "text": [
            "array2d[[0,1],2] =>  [3, 6]\n",
            "array2d[[0,1],0:2] =>  [[1, 2], [4, 5]]\n",
            "array2d[[0,1]] =>  [[1, 2, 3], [4, 5, 6]]\n"
          ]
        }
      ]
    },
    {
      "cell_type": "markdown",
      "source": [
        "### **불린 인덱싱**\n",
        "\n",
        "조건 필터링과 검색을 동시에 할 수 있기 때문에 매우 자주 사용된다.\n",
        "\n",
        "불린 인덱싱은 ndarray의 인덱스를 지정하는 [] 내에 조건문을 그대로 기재하기만 하면 된다."
      ],
      "metadata": {
        "id": "_5F30tTeI6RD"
      }
    },
    {
      "cell_type": "code",
      "source": [
        "array1d = np.arange(start=1, stop=10)\n",
        "# [] 안에 array1d > 5 Boolean indexing을 적용\n",
        "array3 = array1d[array1d >5]\n",
        "print('array1d >5 불린 인덱싱 결과 값:', array3)"
      ],
      "metadata": {
        "colab": {
          "base_uri": "https://localhost:8080/"
        },
        "id": "DpyQ11w4Heal",
        "outputId": "68b2919a-68c2-4a78-e820-4ba51c50c19a"
      },
      "execution_count": 41,
      "outputs": [
        {
          "output_type": "stream",
          "name": "stdout",
          "text": [
            "array1d >5 불린 인덱싱 결과 값: [6 7 8 9]\n"
          ]
        }
      ]
    },
    {
      "cell_type": "markdown",
      "source": [
        "넘파이 ndarray 객체에 조건식을 할당하면 아래와 같이 결과가 나온다."
      ],
      "metadata": {
        "id": "TchJL5MfJsfd"
      }
    },
    {
      "cell_type": "code",
      "source": [
        "array1d > 5"
      ],
      "metadata": {
        "colab": {
          "base_uri": "https://localhost:8080/"
        },
        "id": "hgl4vr9GJiut",
        "outputId": "449158e9-e189-4a84-8273-4e63f4e5c299"
      },
      "execution_count": 42,
      "outputs": [
        {
          "output_type": "execute_result",
          "data": {
            "text/plain": [
              "array([False, False, False, False, False,  True,  True,  True,  True])"
            ]
          },
          "metadata": {},
          "execution_count": 42
        }
      ]
    },
    {
      "cell_type": "markdown",
      "source": [
        "True 값이 있는 위치 인덱스 값으로 자동 변환해 해당하는 인덱스 위치의 데이터만 반환하게 된다."
      ],
      "metadata": {
        "id": "J1xin_0YJ3Bq"
      }
    },
    {
      "cell_type": "code",
      "source": [
        "boolean_indexes = np.array([False, False, False, False, False, True, True, True, True])\n",
        "array3 = array1d[boolean_indexes]\n",
        "print('불린 인덱스로 필터링 결과 :', array3)"
      ],
      "metadata": {
        "colab": {
          "base_uri": "https://localhost:8080/"
        },
        "id": "uggtrIDTJyAx",
        "outputId": "ea8fe185-1518-40ed-cd10-21f52746914d"
      },
      "execution_count": 44,
      "outputs": [
        {
          "output_type": "stream",
          "name": "stdout",
          "text": [
            "불린 인덱스로 필터링 결과 : [6 7 8 9]\n"
          ]
        }
      ]
    },
    {
      "cell_type": "code",
      "source": [
        "indexes = np.array([5,6,7,8])\n",
        "array4 = array1d[indexes]\n",
        "print('일반 인덱스로 필터링 결과 :', array4)"
      ],
      "metadata": {
        "colab": {
          "base_uri": "https://localhost:8080/"
        },
        "id": "ZmJNY7IoKVaL",
        "outputId": "f0a4655d-0bd5-4a99-b28a-30f00356260e"
      },
      "execution_count": 45,
      "outputs": [
        {
          "output_type": "stream",
          "name": "stdout",
          "text": [
            "일반 인덱스로 필터링 결과 : [6 7 8 9]\n"
          ]
        }
      ]
    },
    {
      "cell_type": "markdown",
      "source": [
        "### 행렬의 정렬 - **sort()와 argsort()**\n",
        "\n"
      ],
      "metadata": {
        "id": "CfU8ebe3K1Lg"
      }
    },
    {
      "cell_type": "markdown",
      "source": [
        "### **sort()**\n",
        "- np.sort()\n",
        "\n",
        "  -> 원 행렬은 그대로 유지한 채 원 행렬의 정렬된 행렬을 반환\n",
        "\n",
        "- ndarray.sort()\n",
        "\n",
        "  -> 원 행렬 자체를 정렬한 형태로 변환하며 반환 값은 None이다."
      ],
      "metadata": {
        "id": "obNF33uCLJm8"
      }
    },
    {
      "cell_type": "code",
      "source": [
        "org_array = np.array([3,1,9,5])\n",
        "print('원본 행렬:', org_array)\n",
        "# np.sort()로 정렬\n",
        "sort_array1 = np.sort(org_array)\n",
        "print('np.sort() 호출 후 변환된 정렬 행렬:', sort_array1)\n",
        "print('np.sort() 호출 후 원본 행렬:', org_array)\n",
        "# ndarray.sort()로 정렬\n",
        "sort_array2 = org_array.sort()\n",
        "print('org_array.sort() 호출 후 변환된 정렬 행렬:', sort_array2)\n",
        "print('org_array.sort() 호출 후 원본 행렬:', org_array)"
      ],
      "metadata": {
        "colab": {
          "base_uri": "https://localhost:8080/"
        },
        "id": "QOR7NzrwKoS3",
        "outputId": "2e20912f-9dd4-48b8-c44c-28a849211d87"
      },
      "execution_count": 48,
      "outputs": [
        {
          "output_type": "stream",
          "name": "stdout",
          "text": [
            "원본 행렬: [3 1 9 5]\n",
            "np.sort() 호출 후 변환된 정렬 행렬: [1 3 5 9]\n",
            "np.sort() 호출 후 원본 행렬: [3 1 9 5]\n",
            "org_array.sort() 호출 후 변환된 정렬 행렬: None\n",
            "org_array.sort() 호출 후 원본 행렬: [1 3 5 9]\n"
          ]
        }
      ]
    },
    {
      "cell_type": "markdown",
      "source": [
        "np.sort()나 ndarray.sort() 모두 기본은 오름차순\n",
        "\n",
        "내림차순으로 정렬하기 위해서는 [::-1]을 적용해야한다.\n",
        "\n",
        "ex) np.sort()[::-1]"
      ],
      "metadata": {
        "id": "4T6dwO_3OAtW"
      }
    },
    {
      "cell_type": "code",
      "source": [
        "sort_array1_desc = np.sort(org_array)[::-1]\n",
        "print('내림차순으로 정렬:', sort_array1_desc)"
      ],
      "metadata": {
        "colab": {
          "base_uri": "https://localhost:8080/"
        },
        "id": "2X1xRQfJNfQI",
        "outputId": "a53db442-613b-4531-c24c-fee20be3bacf"
      },
      "execution_count": 49,
      "outputs": [
        {
          "output_type": "stream",
          "name": "stdout",
          "text": [
            "내림차순으로 정렬: [9 5 3 1]\n"
          ]
        }
      ]
    },
    {
      "cell_type": "markdown",
      "source": [
        "행렬이 2차원 이상일 경우에 axis 축 값 설정을 통해 로우, 칼럼 방향으로 정렬을 수행 가능\n",
        "\n",
        "- axis = 0 => row\n",
        "- axis = 1 => col"
      ],
      "metadata": {
        "id": "CY7jI1_iOV4m"
      }
    },
    {
      "cell_type": "code",
      "source": [
        "array2d = np.array([[8,12],\n",
        "                    [7,1]])\n",
        "sort_array2d_axis0 = np.sort(array2d, axis=0)\n",
        "print('로우 방향으로 정렬:\\n', sort_array2d_axis0)\n",
        "\n",
        "sort_array2d_axis1 = np.sort(array2d, axis=1)\n",
        "print('칼럼 방향으로 정렬:\\n', sort_array2d_axis1)"
      ],
      "metadata": {
        "colab": {
          "base_uri": "https://localhost:8080/"
        },
        "id": "v29RJq0SOTYp",
        "outputId": "96413ad7-cb01-448c-c96e-826a46fd21fe"
      },
      "execution_count": 51,
      "outputs": [
        {
          "output_type": "stream",
          "name": "stdout",
          "text": [
            "로우 방향으로 정렬:\n",
            " [[ 7  1]\n",
            " [ 8 12]]\n",
            "칼럼 방향으로 정렬:\n",
            " [[ 8 12]\n",
            " [ 1  7]]\n"
          ]
        }
      ]
    },
    {
      "cell_type": "markdown",
      "source": [
        "### **np.argsort()**\n",
        "원본 행렬이 정렬되었을 때 기존 원본 행렬의 원소에 대한 인덱스를 필요로 할 때 np.argsort()를 이용한며 원본 인덱스를 ndarray 형으로 반환함"
      ],
      "metadata": {
        "id": "IfZA8-LPmp1y"
      }
    },
    {
      "cell_type": "code",
      "source": [
        "org_array = np.array([3,1,9,5])\n",
        "sort_indices = np.argsort(org_array)\n",
        "print(type(sort_indices))\n",
        "print('행렬 정렬 시 원본 행렬의 인덱스:',sort_indices)"
      ],
      "metadata": {
        "colab": {
          "base_uri": "https://localhost:8080/"
        },
        "id": "HBkjOHAGmgtS",
        "outputId": "fc99be8f-9a27-4ec4-df7c-432af1b8f1ff"
      },
      "execution_count": 52,
      "outputs": [
        {
          "output_type": "stream",
          "name": "stdout",
          "text": [
            "<class 'numpy.ndarray'>\n",
            "행렬 정렬 시 원본 행렬의 인덱스: [1 0 3 2]\n"
          ]
        }
      ]
    },
    {
      "cell_type": "markdown",
      "source": [
        "얘도 역시 내림차순으로 정렬 시 np.argsort()[::-1]"
      ],
      "metadata": {
        "id": "itpIR_PvmouF"
      }
    },
    {
      "cell_type": "code",
      "source": [
        "org_array = np.array([3,1,9,5])\n",
        "sort_indices_desc = np.argsort(org_array)[::-1]\n",
        "print('행렬 정렬 시 원본 행렬의 인덱스:',sort_indices_desc)"
      ],
      "metadata": {
        "colab": {
          "base_uri": "https://localhost:8080/"
        },
        "id": "espsIbaj1MI8",
        "outputId": "9cc0f25b-6fed-486d-b5de-8c3181da47d2"
      },
      "execution_count": 53,
      "outputs": [
        {
          "output_type": "stream",
          "name": "stdout",
          "text": [
            "행렬 정렬 시 원본 행렬의 인덱스: [2 3 0 1]\n"
          ]
        }
      ]
    },
    {
      "cell_type": "markdown",
      "source": [
        "ndarray는 메타데이터를 못 가져서 실제 값과 그 값이 뜻하는 메타 데이터를 별도의 ndarray로 각각 가져야만 한다\n",
        "\n",
        "예시)\n",
        "시험 성적순으로 학생 이름을 출력하고자 하는 상황"
      ],
      "metadata": {
        "id": "9IIIhMro1ewY"
      }
    },
    {
      "cell_type": "code",
      "source": [
        "name_array = np.array(['John','Mike','Sarah','Kate','Samuel'])\n",
        "score_array = np.array([78,95,84,98,88])\n",
        "\n",
        "sort_indices_asc = np.argsort(score_array)\n",
        "print('성적 오름차순 정렬 시 score_array의 인덱스:', sort_indices_asc)\n",
        "print('성적 오름차순으로 name_array의 이름 출력:', name_array[sort_indices_asc])"
      ],
      "metadata": {
        "colab": {
          "base_uri": "https://localhost:8080/"
        },
        "id": "giVzrWPD1X_Q",
        "outputId": "2abcef72-4465-465d-a945-7419014ba89e"
      },
      "execution_count": 54,
      "outputs": [
        {
          "output_type": "stream",
          "name": "stdout",
          "text": [
            "성적 오름차순 정렬 시 score_array의 인덱스: [0 2 4 1 3]\n",
            "성적 오름차순으로 name_array의 이름 출력: ['John' 'Sarah' 'Samuel' 'Mike' 'Kate']\n"
          ]
        }
      ]
    },
    {
      "cell_type": "markdown",
      "source": [
        "### 선형대수 연산 - 행렬 내적과 전치 행렬 구하기"
      ],
      "metadata": {
        "id": "nk07Z3qn2iGl"
      }
    },
    {
      "cell_type": "markdown",
      "source": [
        "#### np.dot() => 행렬 내적(행렬 곱)\n",
        "행렬 내적은 행렬 곱이며, 두 행렬 A와 B의 내적은 np.dot()을 이용해 계산이 가능하다.\n",
        "\n",
        "왼쪽 행렬 열개수 오른 행렬 행 개수 같아야 함 (a,b)*(b,c)"
      ],
      "metadata": {
        "id": "kBNSjHQG27ze"
      }
    },
    {
      "cell_type": "code",
      "source": [
        "A = np.array([[1,2,3],\n",
        "             [4,5,6]])\n",
        "B = np.array([[7,8],\n",
        "              [9,10],\n",
        "              [11,12]])\n",
        "dot_product = np.dot(A,B)\n",
        "print('행렬 내적 결과:\\n', dot_product)"
      ],
      "metadata": {
        "colab": {
          "base_uri": "https://localhost:8080/"
        },
        "id": "AxD_gDWm2UQx",
        "outputId": "373de74d-264f-4484-e7ea-c69424ea87e0"
      },
      "execution_count": 56,
      "outputs": [
        {
          "output_type": "stream",
          "name": "stdout",
          "text": [
            "행렬 내적 결과:\n",
            " [[ 58  64]\n",
            " [139 154]]\n"
          ]
        }
      ]
    },
    {
      "cell_type": "markdown",
      "source": [
        "### **Transpose**\n",
        "전치행렬"
      ],
      "metadata": {
        "id": "-D9UEiNu3sDb"
      }
    },
    {
      "cell_type": "code",
      "source": [
        "A = np.array([[1,2],\n",
        "              [3,4]])\n",
        "transpose_mat = np.transpose(A)\n",
        "print('A의 전치 행렬:\\n', transpose_mat)"
      ],
      "metadata": {
        "colab": {
          "base_uri": "https://localhost:8080/"
        },
        "id": "sUHKnkjL3hTm",
        "outputId": "4048b530-fcbc-44b2-cb09-2ec32ef59e4c"
      },
      "execution_count": 57,
      "outputs": [
        {
          "output_type": "stream",
          "name": "stdout",
          "text": [
            "A의 전치 행렬:\n",
            " [[1 3]\n",
            " [2 4]]\n"
          ]
        }
      ]
    }
  ]
}