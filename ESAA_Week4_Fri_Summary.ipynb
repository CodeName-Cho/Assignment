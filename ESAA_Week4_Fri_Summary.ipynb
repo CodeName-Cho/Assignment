{
  "nbformat": 4,
  "nbformat_minor": 0,
  "metadata": {
    "colab": {
      "provenance": [],
      "authorship_tag": "ABX9TyMb8fQRHTyffpJcdtk31Dku",
      "include_colab_link": true
    },
    "kernelspec": {
      "name": "python3",
      "display_name": "Python 3"
    },
    "language_info": {
      "name": "python"
    }
  },
  "cells": [
    {
      "cell_type": "markdown",
      "metadata": {
        "id": "view-in-github",
        "colab_type": "text"
      },
      "source": [
        "<a href=\"https://colab.research.google.com/github/CodeName-Cho/Assignment/blob/main/ESAA_Week4_Fri_Summary.ipynb\" target=\"_parent\"><img src=\"https://colab.research.google.com/assets/colab-badge.svg\" alt=\"Open In Colab\"/></a>"
      ]
    },
    {
      "cell_type": "markdown",
      "source": [
        "# 사이킷런"
      ],
      "metadata": {
        "id": "lVDeR65zjcmE"
      }
    },
    {
      "cell_type": "markdown",
      "source": [
        "### Classification(분류)"
      ],
      "metadata": {
        "id": "IATsOdq7zUnE"
      }
    },
    {
      "cell_type": "markdown",
      "source": [
        "대표적인 지도학습 방법\n",
        "\n",
        "학습 데이터 세트 학습 -> 테스트 데이터 세트에서 미지의 레이블 예측"
      ],
      "metadata": {
        "id": "zbsMHG8Oz0fe"
      }
    },
    {
      "cell_type": "markdown",
      "source": [
        "### sklearn\n",
        "사이킷런 패키지 내의 모듈명은 sklearn으로 시작"
      ],
      "metadata": {
        "id": "wJxXcDSh0T-8"
      }
    },
    {
      "cell_type": "markdown",
      "source": [
        "- sklearn.datasets :사이킷런 자체 제공 데이터 세트 생성 모듈\n",
        "- sklearn.tree : 트리 기반 ML 알고리즘 구현한 클래스 모임\n",
        "- sklearn.model_selection : 데이터 분리, 최적 파라미터로 평가 위한 모듈 모임"
      ],
      "metadata": {
        "id": "xKz0jR2b0wOf"
      }
    },
    {
      "cell_type": "markdown",
      "source": [
        " - 하이퍼 파라미터란 최적 학습을 위해 직접 입력하는 파라미터 통칭, 알고리즘 성능 튜닝 가능"
      ],
      "metadata": {
        "id": "d_CW7hZK1Ntq"
      }
    },
    {
      "cell_type": "markdown",
      "source": [
        "- load_iris() : 붓꽃 데이터 세트 생성\n",
        "- ML 알고리즘 :  Decision Tree(의사결정트리) 알고리즘으로 DecisionTreeClassifier 적용"
      ],
      "metadata": {
        "id": "dP0yGVwg1ege"
      }
    },
    {
      "cell_type": "markdown",
      "source": [
        "- train_test_split() : 데이터 세트를 학습 데이터와 테스트 데이터로 분리"
      ],
      "metadata": {
        "id": "XzZmcVyR2YIi"
      }
    },
    {
      "cell_type": "markdown",
      "source": [
        "- .target : 주로 사이킷런(Scikit-learn) 라이브러리에서 사용되는 속성 중 하나로, 분류나 회귀 문제에서 **정답 라벨(target label)**을 나타냄. 데이터셋의 각 샘플에 대응하는 출력 값 또는 목표 변수를 담고 있음"
      ],
      "metadata": {
        "id": "FP7wNam432Ym"
      }
    },
    {
      "cell_type": "markdown",
      "source": [
        "- train_test_split() - API로 학습 데이터와 테스트 데이터를 test_size 파라미터 입력값을의 비율로 쉽게 분할.\n",
        " - 호출 시 무작위로 분리하는 거라 random_state 지정 안 하면 수행 때마다 다른 데이터 만들 수 있음."
      ],
      "metadata": {
        "id": "61jefGAl9-F-"
      }
    },
    {
      "cell_type": "markdown",
      "source": [
        "- DecisionTreeClassifier() : 사이킷런의 의사 결정 트리 클래스\n",
        "- random_state 인자: 예제 코드 때마다 동일한 애 데려오려고 쓰는 거.\n",
        "- .fit() 메서드 : 여기에 학습용 피처 데이터 속성과 결정 값 데이터 세트를 입력해 호출해 학습을 수행\n",
        "- .predict( ) 메서드: 여기 테스트용 피처 데이터 세트를 입력해 호출하면\n",
        "학습된 모델 기반에서 테스트 데이터 세트에 대한 예측값을 반환\n",
        "\n",
        "예측은 반드시 학습 데이터가 아닌 다른 데이터를 이용"
      ],
      "metadata": {
        "id": "akmJy1JtUB-y"
      }
    },
    {
      "cell_type": "markdown",
      "source": [
        "<예측 성능을 평가>\n",
        "\n",
        "- 정확도: 예측 결과가 실제 레이블 값과 얼마나 정확하게 맞는지를 평가하는 지표\n"
      ],
      "metadata": {
        "id": "y4eEaNfUUCBF"
      }
    },
    {
      "cell_type": "markdown",
      "source": [
        "- accuracy_score(): 사이킷런에서 정확도 측정을 위해 쓰는 함수\n",
        "\n",
        "첫 번째 파라미터로 실제 레이블 데이터 세트, 두 번째 파라미터로 예측 레이블 데이터 세트를 입력"
      ],
      "metadata": {
        "id": "w-kl6BPDUCDz"
      }
    },
    {
      "cell_type": "markdown",
      "source": [
        "<데이터 세트로 분류를 예측한 프로세스>\n",
        "\n",
        "1. 데이터 세트 분리: 데이터를 학습 데이터와 테스트 데이터로 분리합니다.\n",
        "2. 모델 학습: 학습 데이터를 기반으로 ML 알고리즘을 적용해 모델을 학습시킵니다.\n",
        "3. 예측 수행: 학습된 ML 모델을 이용해 테스트 데이터의 분류(즉, 붓꽃 종류)를 예측합니다.\n",
        "4. 평가: 이렇게 예측된 결괏값과 테스트 데이터의 실제 결괏값을 비교해 ML 모델 성능을 평가합니다.\n"
      ],
      "metadata": {
        "id": "YgU1g7DhUCGi"
      }
    },
    {
      "cell_type": "markdown",
      "source": [
        "## 03. 사이킷런의 기반 프레임워크 익히기\n",
        "\n",
        "### Estimator 이해 및 fit(), predict() 메서드\n"
      ],
      "metadata": {
        "id": "ecLocLdgUCJG"
      }
    },
    {
      "cell_type": "markdown",
      "source": [
        "ML 모델 학습을 위해서 fit()\n",
        "\n",
        "학습된 모델의 예측을 위해 predict() 메서드\n",
        "\n",
        "분류 알고리즘을 구현한 클래스를 Classifier로 지칭\n",
        "\n",
        "회귀 알고리즘을 구현한 클래스를 Regressor로 지칭\n",
        "\n",
        "Classifier와 Regressor를 합쳐서 Estimator 클래스라고 부릅 - fit()과 predict()를 내부에서 구현"
      ],
      "metadata": {
        "id": "Ve8IjMDSUCLa"
      }
    },
    {
      "cell_type": "markdown",
      "source": [
        "Estimator 안에 Classifier와 Regressor가 있음\n",
        "\n",
        "Estimator: 학습:fit() / 예측: predict()\n",
        "\n",
        "- Classifier(분류) / 분류 구현 클래스\n",
        " - DecisionTreeClassifier\n",
        " - RandomForestClassifier\n",
        " - GradientBoostingClassifier\n",
        " - GaussianNB\n",
        " - SVC\n",
        "\n",
        "- Regressor(회귀) / 회귀 구현 클래스\n",
        " - LinearRegression\n",
        " - Ridge\n",
        " - Lasso\n",
        " - RandomForestRegressor\n",
        " - GraientBoosting Regressor"
      ],
      "metadata": {
        "id": "4VAjwhRYaXeA"
      }
    },
    {
      "cell_type": "markdown",
      "source": [
        "사이킷런에서 비지도학습도 대부분 fit( ) & transform( ) 적용\n",
        "\n",
        "- fit( ): 비지도학습과 피처 추출에서 fit( )은 지도학습의 fit( )과 같이 학습을 의미하는 것이 아님\n",
        "\n",
        "  입력 데이터의 형태에 맞춰 데이터를 변환하기 위한 사전 구조를 맞추는 작업임\n",
        "\n",
        "- transform( ): fit( )으로 변환을 위한 사전 구조를 맞추면 이후\n",
        "\n",
        "  입력 데이터의 차원 변환, 클러스터 링, 피처 추출 등의 실제 작업 진행\n",
        "\n",
        "- fit_transform() : fit()과 transform()을 하나로 결합힘"
      ],
      "metadata": {
        "id": "o180IYLodXt3"
      }
    },
    {
      "cell_type": "markdown",
      "source": [
        "## 사이킷런의 주요 모듈\n",
        "\n",
        "예제 데이터\n",
        "\n",
        "- sklearn.datasets : 사이킷런에 내장되어 예제로 제공하는 데이터 세트\n",
        "\n",
        "피처 처리\n",
        "\n",
        "- sklearn.preprocessing : 데이터 전처리에 필요한 다양한 가공 기능 제공(문자열을 숫자형 코드 값으로 인코딩, 정규화, 스케일링 등)\n",
        "\n",
        "- sklearn.feature selection : 알고리즘에 큰 영향을 미치는 피처를 우선순위대로 셀렉션 작업을 수행하는 다양한 기능 제공\n",
        "\n",
        "- sklearn.feature_extraction Vectorizer : 텍스트 데이터나 이미지 데이터의 벡터화된 피처를 추출하는\n",
        "데 사용됨. /\n",
        "예를 들어 텍스트 데이터에서 Count Vectorized 등을 생성하는 기능 제공.\n",
        "텍스트 데이터의 피처 추출은 sklearn.feature_extraction.\n",
        "text 모듈에, 이미지 데이터의 피처 추출은 sklearn.feature_\n",
        "extraction.image 모듈에 지원 API가 있음.\n",
        "\n",
        "피처 처리 & 차원 축소\n",
        "\n",
        "- sklearn.decomposition : 차원 축소와 관련한 알고리즘을 지원하는 모듈임. PCA, NMF, Truncated SVD 등을 통해 차원 축소 기능을 수행할 수 있음\n",
        "\n",
        "데이터 분리, 검증\n",
        "\n",
        "- sklearn.model_selection :\n",
        "교차 검증을 위한 학습용/테스트용 분리, 그리드 서치(Grid\n",
        "&파라미터 튜닝 Search)로 최적 파라미터 추출 등의 API 제공\n",
        "\n",
        "평가\n",
        "\n",
        "- sklearn.metrics : 분류, 회귀, 클러스터링, 페어와이즈(Pairwise)에 대한 다양한 성능 측정 방법 제공\n",
        "Accuracy, Precision, Recall, ROC-AUC, RMSE 등 제공\n",
        "\n",
        "ML 알고리즘\n",
        "\n",
        "- sklearn.ensemble : 앙상블 알고리즘 제공\n",
        "랜덤 포레스트, 에이다 부스트, 그래디언트 부스팅 등을 제공\n",
        "\n",
        "- sklearn.linear_model:\n",
        "주로 선형 회귀, 릿지(Ridge), 라쏘(Lasso) 및 로지스틱 회귀\n",
        "등 회귀 관련 알고리즘을 지원. 또한 SGD(Stochastic Gradient\n",
        "Descent) 관련 알고리즘도 제공\n",
        "\n",
        "- sklearn.naive_bayes : 나이브 베이즈 알고리즘 제공. 가우시안 NB, 다항 분포 NB 등.\n",
        "\n",
        "- sklearn.neighbors : 최근접 이웃 알고리즘 제공. K-NN 등\n",
        "\n",
        "- sklearn.svm : 서포트 벡터 머신 알고리즘 제공\n",
        "\n",
        "- sklearn.tree : 의사 결정 트리 알고리즘 제공\n",
        "\n",
        "- sklearn.cluster:\n",
        "비지도 클러스터링 알고리즘 제공\n",
        "(K—평균, 계층형, DBSCAN 등 )\n"
      ],
      "metadata": {
        "id": "oUTcGWI4icVj"
      }
    },
    {
      "cell_type": "markdown",
      "source": [
        "데이터 키는 피처들의 데이터 값을 가리킵니다. 데이터 세트가 딕셔너리 형태이기 때문에 피처 데이터\n",
        "값을 추출하기 위해서는 데이터 세트.data(또는 데이터 세틔,data'])를 이용"
      ],
      "metadata": {
        "id": "Nk_qsZUpq50K"
      }
    },
    {
      "cell_type": "markdown",
      "source": [
        "## 04 Model Selection 모듈\n",
        "\n",
        "model_selection 모듈은 학습 데이터와 테스트 데이터 세트를 분리하거나 교차 검증 분할 및 평가, 그리고 Estimator의 하이퍼 파라미터를 튜닝하기 위한 다양한 함수와 클래스를 제공"
      ],
      "metadata": {
        "id": "YkHqftELBXHD"
      }
    },
    {
      "cell_type": "markdown",
      "source": [
        "- train_test_split(): 원본 데이터 세트에서 학습 및 테스트 데이터 세트를 쉽게 분리할 수 있습니다\n",
        " - test.size： 전체 데이터에서 테스트 데이터 세트 크기를 얼마로 샘플링할 것인가를 결정합니다. 디폴트는 0.25, 즉 25%\n",
        "입니다.\n",
        " - train_size： 전체 데이터에서 학습용 데이터 세트 크기를 얼마로 샘플링할 것인가를 결정합니다. test_size parameter\n",
        "를 통상적으로 사용하기 때문에 train_size는 잘 사용되지 않습니다\n",
        " - shuffle： 데이터를 분리하기 전에 데이터를 미리 섞을지를 결정합니다. 디폴트는 True입니다. 데이터를 분산시켜서 좀 더\n",
        "효율적인 학습 및 테스트 데이터 세트를 만드는 데 사용됩니다\n",
        " - random_state： random_state는 호출할 때마다 동일한 학습/테스트용 데이터 세트를 생성하기 위해 주어지는 난수 값입니다.\n",
        " - train_test_split()는 호출 시 무작위로 데이터를 분리하므로 random_state를 지정하지 않으면 수행할 때마다 다른 학습/테스트 용 데이터를 생성합니다. 이 책에서 소개하는 예제는 실습용 예제이므로 수행할 때마다 동일한 데이터 세트로\n",
        "분리하기 위해 random_state를 일정한 숫자 값으로 부여하겠습니다.\n",
        " - train_test_split()의 반환값은 튜플 형태입니다. 순차적으로 학습용 데이터의 피처 데이터 세트, 테스트용 데이터의\n",
        "피처 데이터 세트, 학습용 데이터의 레이블 데이터 세트, 테스트용 데이터의 레이블 데이터 세트가 반환됩니다."
      ],
      "metadata": {
        "id": "IFwjgGeuBl0o"
      }
    },
    {
      "cell_type": "markdown",
      "source": [
        "accuracy_score(y_test, pred) : 예측 정확도 측정."
      ],
      "metadata": {
        "id": "EDiKKn8RIqYG"
      }
    },
    {
      "cell_type": "markdown",
      "source": [
        "- K 폴드 교차 검증: K개의 데이터 폴드 세트를 만들어서 K번만큼 각 폴트 세트에 학습과 검증 평가를 반복적으로 수행하는 방법\n",
        " - .split(): split()을 호출하면 학습용/검증용 데이터로 분할할 수 있는 인덱스를 반환합"
      ],
      "metadata": {
        "id": "Rvsoqus3I74j"
      }
    },
    {
      "cell_type": "markdown",
      "source": [
        "- Stratified K 폴드: 불균형한(imbalanced)(=특정 레이블 값이 특이하게 많거나\n",
        "매우 적어서 값의 분포가 한쪽으로 치우치는) 분포도를 가진 레이블(결정 클래스) 데이터 집합을 위한 K 폴드 방식\n",
        "\n",
        "  Stratified K 폴드는 원본 데이터의 레이블 분포를 먼저 고려한 뒤 이 분포와 동일하게 학습과 검증 데이터 세트를 분배\n",
        "\n",
        "  StratifiedKFold는 레이블 데이터 분포도에 따라 학습/검증 데이터를 나누기 때문에 split() 메서드에 인자로 피처 데이터 세트뿐만 아니라 레이블 데이터 세트도 반드시 필요\n",
        "\n",
        "일반적으로 분류(Classification)에서의 교차 검증은 K 폴드가 아니라 Stratified K 폴드로 분할돼야 합니다.\n",
        "\n",
        "회귀(Regression)에서는 Stratified K 폴드가 지원되지 않습니다"
      ],
      "metadata": {
        "id": "firnlQ8XNKgq"
      }
    },
    {
      "cell_type": "markdown",
      "source": [
        "KFold로 데이터를 학습하고 예측하는 코드를 보면 먼저\n",
        "1. 폴드 세트를 설정하고\n",
        "2. for 루프에서 반복으로 학습 및 테스트 데이터의 인덱스를 추출한 뒤\n",
        "3. 반복적으로 학습과 예측을 수행하고 예측 성능을 반환"
      ],
      "metadata": {
        "id": "rxslqp1iaHQc"
      }
    },
    {
      "cell_type": "markdown",
      "source": [
        "- cross_val_score( ): 이런 일련의 과정을 한꺼번에 수행해주는 API\n",
        "\n",
        "  - 선언형태: cross_val_score(estimator, X, y=None, scoring=None, cv=None, n_jobs=1, verbose=0, fit_params=None,pre_dispatch='2*n_jobs')\n",
        "\n",
        "    이 중 estimator, X, y, scoring, cv가 주요 파라미터로,\n",
        "\n",
        "    X는 피처 데이터 세트, y는 레이블 데이터 세트, scoring은 예측 성능 평가 지표를 기술하며, cv는 교차 검증 폴드 수를 의미\n",
        "\n",
        "  - 반환 값은 scoring 파라미터로 지정된 성능 지표 측정값을 배열 형태로 반환\n",
        "\n",
        "  - classifier가 입력되면 Stratified K 폴드 방식으로 레이블값의 분포에 따라 학습/테스트 세트를 분할(회귀인 경우, Stratified K 폴드 방식으로 분할할수 없dj, K 폴드 방식으로 분할)\n",
        "  \n",
        "  - cv로 지정된 횟수만큼 scoring 파라미터로 지정된 평가 지표로 평가 결괏값\n",
        "을 배열로 반환\n",
        "\n",
        " - 단 하나의 평가 지표만 가능\n",
        "\n",
        "-  cross_validate(): 여러 개의 평가 지표를 반환할 수 있음"
      ],
      "metadata": {
        "id": "I32yfyNtauw4"
      }
    },
    {
      "cell_type": "markdown",
      "source": [
        "### GridSearchCV - 교차 검증과 최적 하이퍼 파라미터 튜닝을 한 번에\n",
        "\n",
        "Classifier나 Regressor와 같은 알고리즘에 사용되는 하이퍼 파라미터를 순차적으로 입력하면서 편리하게 최적의 파라미터를 도출할 수 있는 방안을 제공"
      ],
      "metadata": {
        "id": "iekBbZReddzm"
      }
    },
    {
      "cell_type": "markdown",
      "source": [
        " p.112"
      ],
      "metadata": {
        "id": "xkk6RjumdCyg"
      }
    },
    {
      "cell_type": "code",
      "source": [],
      "metadata": {
        "id": "LwO30iFS7BSJ"
      },
      "execution_count": null,
      "outputs": []
    }
  ]
}